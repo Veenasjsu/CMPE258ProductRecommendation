{
  "cells": [
    {
      "cell_type": "markdown",
      "metadata": {
        "id": "gWOhyw_oexZs"
      },
      "source": [
        "# Step 1 : Import Necessary libraries and packages"
      ]
    },
    {
      "cell_type": "code",
      "execution_count": null,
      "metadata": {
        "colab": {
          "base_uri": "https://localhost:8080/"
        },
        "id": "NZ5Re0nV7dRw",
        "outputId": "8792840e-3748-4235-c22c-f32c5f30b178"
      },
      "outputs": [
        {
          "name": "stdout",
          "output_type": "stream",
          "text": [
            "Requirement already satisfied: pandas in /system/conda/miniconda3/envs/cloudspace/lib/python3.10/site-packages (2.1.4)\n",
            "Requirement already satisfied: torch in /system/conda/miniconda3/envs/cloudspace/lib/python3.10/site-packages (2.2.1+cu121)\n",
            "Requirement already satisfied: transformers in /system/conda/miniconda3/envs/cloudspace/lib/python3.10/site-packages (4.46.2)\n",
            "Requirement already satisfied: datasets in /system/conda/miniconda3/envs/cloudspace/lib/python3.10/site-packages (3.1.0)\n",
            "Requirement already satisfied: scikit-learn in /system/conda/miniconda3/envs/cloudspace/lib/python3.10/site-packages (1.3.2)\n",
            "Requirement already satisfied: numpy<2,>=1.22.4 in /system/conda/miniconda3/envs/cloudspace/lib/python3.10/site-packages (from pandas) (1.26.4)\n",
            "Requirement already satisfied: python-dateutil>=2.8.2 in /system/conda/miniconda3/envs/cloudspace/lib/python3.10/site-packages (from pandas) (2.9.0.post0)\n",
            "Requirement already satisfied: pytz>=2020.1 in /system/conda/miniconda3/envs/cloudspace/lib/python3.10/site-packages (from pandas) (2024.2)\n",
            "Requirement already satisfied: tzdata>=2022.1 in /system/conda/miniconda3/envs/cloudspace/lib/python3.10/site-packages (from pandas) (2024.2)\n",
            "Requirement already satisfied: filelock in /system/conda/miniconda3/envs/cloudspace/lib/python3.10/site-packages (from torch) (3.16.1)\n",
            "Requirement already satisfied: typing-extensions>=4.8.0 in /system/conda/miniconda3/envs/cloudspace/lib/python3.10/site-packages (from torch) (4.12.2)\n",
            "Requirement already satisfied: sympy in /system/conda/miniconda3/envs/cloudspace/lib/python3.10/site-packages (from torch) (1.13.3)\n",
            "Requirement already satisfied: networkx in /system/conda/miniconda3/envs/cloudspace/lib/python3.10/site-packages (from torch) (3.4.2)\n",
            "Requirement already satisfied: jinja2 in /system/conda/miniconda3/envs/cloudspace/lib/python3.10/site-packages (from torch) (3.1.4)\n",
            "Requirement already satisfied: fsspec in /system/conda/miniconda3/envs/cloudspace/lib/python3.10/site-packages (from torch) (2024.9.0)\n",
            "Requirement already satisfied: nvidia-cuda-nvrtc-cu12==12.1.105 in /system/conda/miniconda3/envs/cloudspace/lib/python3.10/site-packages (from torch) (12.1.105)\n",
            "Requirement already satisfied: nvidia-cuda-runtime-cu12==12.1.105 in /system/conda/miniconda3/envs/cloudspace/lib/python3.10/site-packages (from torch) (12.1.105)\n",
            "Requirement already satisfied: nvidia-cuda-cupti-cu12==12.1.105 in /system/conda/miniconda3/envs/cloudspace/lib/python3.10/site-packages (from torch) (12.1.105)\n",
            "Requirement already satisfied: nvidia-cudnn-cu12==8.9.2.26 in /system/conda/miniconda3/envs/cloudspace/lib/python3.10/site-packages (from torch) (8.9.2.26)\n",
            "Requirement already satisfied: nvidia-cublas-cu12==12.1.3.1 in /system/conda/miniconda3/envs/cloudspace/lib/python3.10/site-packages (from torch) (12.1.3.1)\n",
            "Requirement already satisfied: nvidia-cufft-cu12==11.0.2.54 in /system/conda/miniconda3/envs/cloudspace/lib/python3.10/site-packages (from torch) (11.0.2.54)\n",
            "Requirement already satisfied: nvidia-curand-cu12==10.3.2.106 in /system/conda/miniconda3/envs/cloudspace/lib/python3.10/site-packages (from torch) (10.3.2.106)\n",
            "Requirement already satisfied: nvidia-cusolver-cu12==11.4.5.107 in /system/conda/miniconda3/envs/cloudspace/lib/python3.10/site-packages (from torch) (11.4.5.107)\n",
            "Requirement already satisfied: nvidia-cusparse-cu12==12.1.0.106 in /system/conda/miniconda3/envs/cloudspace/lib/python3.10/site-packages (from torch) (12.1.0.106)\n",
            "Requirement already satisfied: nvidia-nccl-cu12==2.19.3 in /system/conda/miniconda3/envs/cloudspace/lib/python3.10/site-packages (from torch) (2.19.3)\n",
            "Requirement already satisfied: nvidia-nvtx-cu12==12.1.105 in /system/conda/miniconda3/envs/cloudspace/lib/python3.10/site-packages (from torch) (12.1.105)\n",
            "Requirement already satisfied: triton==2.2.0 in /system/conda/miniconda3/envs/cloudspace/lib/python3.10/site-packages (from torch) (2.2.0)\n",
            "Requirement already satisfied: nvidia-nvjitlink-cu12 in /system/conda/miniconda3/envs/cloudspace/lib/python3.10/site-packages (from nvidia-cusolver-cu12==11.4.5.107->torch) (12.6.77)\n",
            "Requirement already satisfied: huggingface-hub<1.0,>=0.23.2 in /system/conda/miniconda3/envs/cloudspace/lib/python3.10/site-packages (from transformers) (0.26.2)\n",
            "Requirement already satisfied: packaging>=20.0 in /system/conda/miniconda3/envs/cloudspace/lib/python3.10/site-packages (from transformers) (24.1)\n",
            "Requirement already satisfied: pyyaml>=5.1 in /system/conda/miniconda3/envs/cloudspace/lib/python3.10/site-packages (from transformers) (6.0.2)\n",
            "Requirement already satisfied: regex!=2019.12.17 in /system/conda/miniconda3/envs/cloudspace/lib/python3.10/site-packages (from transformers) (2024.11.6)\n",
            "Requirement already satisfied: requests in /system/conda/miniconda3/envs/cloudspace/lib/python3.10/site-packages (from transformers) (2.32.3)\n",
            "Requirement already satisfied: safetensors>=0.4.1 in /system/conda/miniconda3/envs/cloudspace/lib/python3.10/site-packages (from transformers) (0.4.5)\n",
            "Requirement already satisfied: tokenizers<0.21,>=0.20 in /system/conda/miniconda3/envs/cloudspace/lib/python3.10/site-packages (from transformers) (0.20.3)\n",
            "Requirement already satisfied: tqdm>=4.27 in /system/conda/miniconda3/envs/cloudspace/lib/python3.10/site-packages (from transformers) (4.66.6)\n",
            "Requirement already satisfied: pyarrow>=15.0.0 in /system/conda/miniconda3/envs/cloudspace/lib/python3.10/site-packages (from datasets) (18.0.0)\n",
            "Requirement already satisfied: dill<0.3.9,>=0.3.0 in /system/conda/miniconda3/envs/cloudspace/lib/python3.10/site-packages (from datasets) (0.3.8)\n",
            "Requirement already satisfied: xxhash in /system/conda/miniconda3/envs/cloudspace/lib/python3.10/site-packages (from datasets) (3.5.0)\n",
            "Requirement already satisfied: multiprocess<0.70.17 in /system/conda/miniconda3/envs/cloudspace/lib/python3.10/site-packages (from datasets) (0.70.16)\n",
            "Requirement already satisfied: aiohttp in /system/conda/miniconda3/envs/cloudspace/lib/python3.10/site-packages (from datasets) (3.10.10)\n",
            "Requirement already satisfied: scipy>=1.5.0 in /system/conda/miniconda3/envs/cloudspace/lib/python3.10/site-packages (from scikit-learn) (1.11.4)\n",
            "Requirement already satisfied: joblib>=1.1.1 in /system/conda/miniconda3/envs/cloudspace/lib/python3.10/site-packages (from scikit-learn) (1.4.2)\n",
            "Requirement already satisfied: threadpoolctl>=2.0.0 in /system/conda/miniconda3/envs/cloudspace/lib/python3.10/site-packages (from scikit-learn) (3.5.0)\n",
            "Requirement already satisfied: aiohappyeyeballs>=2.3.0 in /system/conda/miniconda3/envs/cloudspace/lib/python3.10/site-packages (from aiohttp->datasets) (2.4.3)\n",
            "Requirement already satisfied: aiosignal>=1.1.2 in /system/conda/miniconda3/envs/cloudspace/lib/python3.10/site-packages (from aiohttp->datasets) (1.3.1)\n",
            "Requirement already satisfied: attrs>=17.3.0 in /system/conda/miniconda3/envs/cloudspace/lib/python3.10/site-packages (from aiohttp->datasets) (24.2.0)\n",
            "Requirement already satisfied: frozenlist>=1.1.1 in /system/conda/miniconda3/envs/cloudspace/lib/python3.10/site-packages (from aiohttp->datasets) (1.5.0)\n",
            "Requirement already satisfied: multidict<7.0,>=4.5 in /system/conda/miniconda3/envs/cloudspace/lib/python3.10/site-packages (from aiohttp->datasets) (6.1.0)\n",
            "Requirement already satisfied: yarl<2.0,>=1.12.0 in /system/conda/miniconda3/envs/cloudspace/lib/python3.10/site-packages (from aiohttp->datasets) (1.17.1)\n",
            "Requirement already satisfied: async-timeout<5.0,>=4.0 in /system/conda/miniconda3/envs/cloudspace/lib/python3.10/site-packages (from aiohttp->datasets) (4.0.3)\n",
            "Requirement already satisfied: six>=1.5 in /system/conda/miniconda3/envs/cloudspace/lib/python3.10/site-packages (from python-dateutil>=2.8.2->pandas) (1.16.0)\n",
            "Requirement already satisfied: charset-normalizer<4,>=2 in /system/conda/miniconda3/envs/cloudspace/lib/python3.10/site-packages (from requests->transformers) (3.4.0)\n",
            "Requirement already satisfied: idna<4,>=2.5 in /system/conda/miniconda3/envs/cloudspace/lib/python3.10/site-packages (from requests->transformers) (3.10)\n",
            "Requirement already satisfied: urllib3<3,>=1.21.1 in /system/conda/miniconda3/envs/cloudspace/lib/python3.10/site-packages (from requests->transformers) (2.2.3)\n",
            "Requirement already satisfied: certifi>=2017.4.17 in /system/conda/miniconda3/envs/cloudspace/lib/python3.10/site-packages (from requests->transformers) (2024.8.30)\n",
            "Requirement already satisfied: MarkupSafe>=2.0 in /system/conda/miniconda3/envs/cloudspace/lib/python3.10/site-packages (from jinja2->torch) (2.1.5)\n",
            "Requirement already satisfied: mpmath<1.4,>=1.1.0 in /system/conda/miniconda3/envs/cloudspace/lib/python3.10/site-packages (from sympy->torch) (1.3.0)\n",
            "Requirement already satisfied: propcache>=0.2.0 in /system/conda/miniconda3/envs/cloudspace/lib/python3.10/site-packages (from yarl<2.0,>=1.12.0->aiohttp->datasets) (0.2.0)\n"
          ]
        }
      ],
      "source": [
        "!pip install pandas torch transformers datasets scikit-learn"
      ]
    },
    {
      "cell_type": "code",
      "execution_count": null,
      "metadata": {
        "id": "G4RV9ww_Pemi"
      },
      "outputs": [],
      "source": [
        "import torch"
      ]
    },
    {
      "cell_type": "markdown",
      "metadata": {
        "id": "WAyUe54re24k"
      },
      "source": [
        "# Step 2 : Device and Environment Check"
      ]
    },
    {
      "cell_type": "code",
      "execution_count": null,
      "metadata": {
        "id": "petY13o9774L"
      },
      "outputs": [],
      "source": [
        "if torch.cuda.is_available():\n",
        "    device = torch.device('cuda')  # CUDA GPU\n",
        "elif torch.backends.mps.is_available():\n",
        "    device = torch.device('mps') #Apple GPU\n",
        "else:\n",
        "    device = torch.device(\"cpu\")"
      ]
    },
    {
      "cell_type": "code",
      "execution_count": null,
      "metadata": {
        "colab": {
          "base_uri": "https://localhost:8080/"
        },
        "id": "Jd2SZa5e7_rG",
        "outputId": "d04fd403-cd25-4469-d302-4daa6658b81a"
      },
      "outputs": [
        {
          "name": "stdout",
          "output_type": "stream",
          "text": [
            "Using device: cuda\n",
            "Device name:  Tesla T4\n",
            "Device properties: _CudaDeviceProperties(name='Tesla T4', major=7, minor=5, total_memory=15102MB, multi_processor_count=40)\n",
            "Memory Usage:\n",
            "Allocated: 0.6 GB\n",
            "Cached:    0.8 GB\n"
          ]
        }
      ],
      "source": [
        "print('Using device:', device)\n",
        "#Additional Info when using cuda\n",
        "if device.type == 'cuda':\n",
        "    print(\"Device name: \", torch.cuda.get_device_name(0))\n",
        "    print(\"Device properties:\", torch.cuda.get_device_properties(0))\n",
        "    print('Memory Usage:')\n",
        "    print('Allocated:', round(torch.cuda.memory_allocated(0)/1024**3,1), 'GB')\n",
        "    print('Cached:   ', round(torch.cuda.memory_reserved(0)/1024**3,1), 'GB')"
      ]
    },
    {
      "cell_type": "markdown",
      "metadata": {
        "id": "HaSYSq9HPemk"
      },
      "source": [
        "# Step 3 - Load Chosen dataset"
      ]
    },
    {
      "cell_type": "code",
      "execution_count": null,
      "metadata": {
        "id": "AGDAGOhSPeml"
      },
      "outputs": [],
      "source": [
        "import pandas as pd\n",
        "from datasets import load_dataset\n",
        "import numpy as np"
      ]
    },
    {
      "cell_type": "code",
      "execution_count": null,
      "metadata": {
        "id": "HF5kXWAQPeml"
      },
      "outputs": [],
      "source": [
        "review_dataset = load_dataset(\"McAuley-Lab/Amazon-Reviews-2023\",\"raw_review_All_Beauty\")\n",
        "\n",
        "# User Reviews dataframe (reviews are in the 'train' split)\n",
        "reviews_df = pd.DataFrame(review_dataset['full'])"
      ]
    },
    {
      "cell_type": "code",
      "execution_count": null,
      "metadata": {
        "id": "H8SuTohGRLPa",
        "outputId": "28ce4ca3-7ab9-4168-f5bf-da7817845da9"
      },
      "outputs": [
        {
          "name": "stdout",
          "output_type": "stream",
          "text": [
            "701528\n"
          ]
        }
      ],
      "source": [
        "#To check length of the dataset\n",
        "print(len(reviews_df))"
      ]
    },
    {
      "cell_type": "markdown",
      "source": [
        "# Step 4 -  Data Check and preprocessing"
      ],
      "metadata": {
        "id": "iQJfk8irSERy"
      }
    },
    {
      "cell_type": "code",
      "execution_count": null,
      "metadata": {
        "id": "upMO7bLaRLPa",
        "outputId": "334ef19d-43df-4bea-d27c-6e96820d4752"
      },
      "outputs": [
        {
          "name": "stdout",
          "output_type": "stream",
          "text": [
            "Total number of records: 701528\n",
            "\n",
            "Missing values per column:\n",
            "rating               0\n",
            "title                0\n",
            "text                 0\n",
            "images               0\n",
            "asin                 0\n",
            "parent_asin          0\n",
            "user_id              0\n",
            "timestamp            0\n",
            "helpful_vote         0\n",
            "verified_purchase    0\n",
            "dtype: int64\n",
            "\n",
            "Unhashable columns excluded for duplicate check: ['images']\n",
            "\n",
            "Number of duplicate rows: 7275\n"
          ]
        }
      ],
      "source": [
        "\n",
        "import pandas as pd\n",
        "\n",
        "# Print the total number of records\n",
        "print(\"Total number of records:\", len(reviews_df))\n",
        "\n",
        "# Check for missing values\n",
        "print(\"\\nMissing values per column:\")\n",
        "print(reviews_df.isnull().sum())\n",
        "\n",
        "# Exclude unhashable columns when checking for duplicates\n",
        "unhashable_columns = [col for col in reviews_df.columns if reviews_df[col].apply(type).isin([list, dict]).any()]\n",
        "print(\"\\nUnhashable columns excluded for duplicate check:\", unhashable_columns)\n",
        "\n",
        "# Check duplicates only on hashable columns\n",
        "hashable_df = reviews_df.drop(columns=unhashable_columns)\n",
        "duplicate_rows = hashable_df.duplicated()\n",
        "\n",
        "print(\"\\nNumber of duplicate rows:\", duplicate_rows.sum())\n",
        "\n",
        "\n",
        "\n"
      ]
    },
    {
      "cell_type": "code",
      "execution_count": null,
      "metadata": {
        "id": "YIm3uhBTRLPb",
        "outputId": "aac32033-412a-4c55-d4c3-e2f05b16e49f"
      },
      "outputs": [
        {
          "name": "stdout",
          "output_type": "stream",
          "text": [
            "Original number of rows: 701528\n",
            "Number of rows after removing duplicates: 694252\n",
            "\n",
            "Duplicates based on ASIN and user_id have been removed.\n"
          ]
        }
      ],
      "source": [
        "\n",
        "# Columns to check for duplicates\n",
        "key_columns = ['asin', 'user_id']\n",
        "\n",
        "# Remove duplicates based on key columns and keep the first occurrence\n",
        "reviews_df_cleaned = reviews_df.drop_duplicates(subset=key_columns, keep='first')\n",
        "\n",
        "# Print the number of rows before and after removing duplicates\n",
        "print(\"Original number of rows:\", len(reviews_df))\n",
        "print(\"Number of rows after removing duplicates:\", len(reviews_df_cleaned))\n",
        "\n",
        "# update the original dataframe\n",
        "reviews_df = reviews_df_cleaned\n",
        "\n",
        "# Confirm the change\n",
        "print(\"\\nDuplicates based on ASIN and user_id have been removed.\")\n"
      ]
    },
    {
      "cell_type": "code",
      "execution_count": null,
      "metadata": {
        "id": "NmO_rS_vPemm"
      },
      "outputs": [],
      "source": [
        "# Map user_id and parent_asin to indices\n",
        "user_map = {user: idx for idx, user in enumerate(reviews_df[\"user_id\"].unique())}\n",
        "item_map = {asin: idx for idx, asin in enumerate(reviews_df[\"parent_asin\"].unique())}\n"
      ]
    },
    {
      "cell_type": "code",
      "execution_count": null,
      "metadata": {
        "id": "QnLTNgP9XF9R"
      },
      "outputs": [],
      "source": [
        "meta_dataset = load_dataset(\"McAuley-Lab/Amazon-Reviews-2023\",\"raw_meta_All_Beauty\")\n",
        "\n",
        "# User Reviews dataframe (reviews are in the 'train' split)\n",
        "meta_df = pd.DataFrame(meta_dataset['full'])"
      ]
    },
    {
      "cell_type": "markdown",
      "metadata": {
        "id": "vWXbVHqtXdZA"
      },
      "source": [
        "# Step 5 - Split dataset for training\n"
      ]
    },
    {
      "cell_type": "code",
      "execution_count": null,
      "metadata": {
        "id": "KOBJ8Uw0QaKq"
      },
      "outputs": [],
      "source": [
        "from sklearn.model_selection import train_test_split"
      ]
    },
    {
      "cell_type": "code",
      "execution_count": null,
      "metadata": {
        "id": "gCF_UzZePemm"
      },
      "outputs": [],
      "source": [
        "reviews_df[\"user_idx\"] = reviews_df[\"user_id\"].map(user_map)\n",
        "reviews_df[\"item_idx\"] = reviews_df[\"parent_asin\"].map(item_map)\n",
        "\n",
        "# Train-test split\n",
        "train, test = train_test_split(reviews_df, test_size=0.2, random_state=42)"
      ]
    },
    {
      "cell_type": "markdown",
      "metadata": {
        "id": "1-X4qcl8Pemm"
      },
      "source": [
        "#NCF model"
      ]
    },
    {
      "cell_type": "code",
      "execution_count": null,
      "metadata": {
        "id": "Br9TeXBCPemn"
      },
      "outputs": [],
      "source": [
        "import torch\n",
        "import torch.nn as nn\n",
        "import torch.nn.functional as F\n",
        "\n",
        "class NCF(nn.Module):\n",
        "    def __init__(self, num_users, num_items, embedding_dim=32, hidden_dims=[64, 32], dropout_rate=0.5):\n",
        "        super(NCF, self).__init__()\n",
        "        # Embedding layers\n",
        "        self.user_embedding = nn.Embedding(num_users, embedding_dim)\n",
        "        self.item_embedding = nn.Embedding(num_items, embedding_dim)\n",
        "\n",
        "        # Neural layers\n",
        "        input_dim = embedding_dim * 2\n",
        "        layers = []\n",
        "        for hidden_dim in hidden_dims:\n",
        "            layers.append(nn.Linear(input_dim, hidden_dim))\n",
        "            layers.append(nn.ReLU())\n",
        "            input_dim = hidden_dim\n",
        "        self.mlp = nn.Sequential(*layers)\n",
        "\n",
        "        # Final prediction layer\n",
        "        self.output = nn.Linear(hidden_dims[-1], 1)\n",
        "        self.dropout = nn.Dropout(p=dropout_rate)\n",
        "\n",
        "    def forward(self, user_idx, item_idx):\n",
        "        # Embeddings\n",
        "        user_emb = self.user_embedding(user_idx)\n",
        "        item_emb = self.item_embedding(item_idx)\n",
        "\n",
        "        # Concatenate and pass through MLP\n",
        "        x = torch.cat([user_emb, item_emb], dim=-1)\n",
        "        x = self.mlp(x)\n",
        "\n",
        "        x = self.dropout(x)\n",
        "\n",
        "        # Prediction\n",
        "        return torch.sigmoid(self.output(x))\n"
      ]
    },
    {
      "cell_type": "markdown",
      "metadata": {
        "id": "Eoe6mwbUPemn"
      },
      "source": [
        "#Step 6- Prepare Dataloader"
      ]
    },
    {
      "cell_type": "code",
      "execution_count": null,
      "metadata": {
        "id": "jWA7nROFPemn"
      },
      "outputs": [],
      "source": [
        "from torch.utils.data import Dataset, DataLoader\n",
        "\n",
        "class ReviewsDataset(Dataset):\n",
        "    def __init__(self, data):\n",
        "        self.user_idx = data[\"user_idx\"].values\n",
        "        self.item_idx = data[\"item_idx\"].values\n",
        "        self.rating = data[\"rating\"].values\n",
        "\n",
        "    def __len__(self):\n",
        "        return len(self.rating)\n",
        "\n",
        "    def __getitem__(self, idx):\n",
        "        return {\n",
        "            \"user_idx\": torch.tensor(self.user_idx[idx], dtype=torch.long),\n",
        "            \"item_idx\": torch.tensor(self.item_idx[idx], dtype=torch.long),\n",
        "            \"rating\": torch.tensor(self.rating[idx], dtype=torch.float),\n",
        "        }\n",
        "\n",
        "# Create DataLoaders\n",
        "train_dataset = ReviewsDataset(train)\n",
        "test_dataset = ReviewsDataset(test)\n",
        "\n",
        "train_loader = DataLoader(train_dataset, batch_size=256, shuffle=True, num_workers=4, pin_memory=True)\n",
        "test_loader = DataLoader(test_dataset, batch_size=256, shuffle=False,num_workers=4, pin_memory=True)\n"
      ]
    },
    {
      "cell_type": "markdown",
      "metadata": {
        "id": "KxChqWqxPemo"
      },
      "source": [
        "# Step 7 - Training"
      ]
    },
    {
      "cell_type": "code",
      "execution_count": null,
      "metadata": {
        "id": "vlj726hlRLPg"
      },
      "outputs": [],
      "source": [
        "results = {\"train_loss\": [],\n",
        "            \"train_acc\": [],\n",
        "            \"train_rmse\": [],  # Add RMSE for training\n",
        "            \"test_loss\": [],\n",
        "            \"test_acc\": [],\n",
        "            \"test_rmse\": []  # Add RMSE for testing\n",
        "    }"
      ]
    },
    {
      "cell_type": "code",
      "execution_count": null,
      "metadata": {
        "id": "jPYTsM_BPemo"
      },
      "outputs": [],
      "source": [
        "\n",
        "import torch.nn.functional as F\n",
        "\n",
        "def train_model(model, train_loader, test_loader, epochs=10, lr=0.001, lr_decay_step=5, lr_decay_gamma=0.1):\n",
        "    model.to(\"cuda\")  # Move model to GPU\n",
        "    criterion = nn.MSELoss()\n",
        "    optimizer = torch.optim.Adam(model.parameters(), lr=lr, weight_decay=0.01)\n",
        "\n",
        "    scheduler = torch.optim.lr_scheduler.StepLR(optimizer, step_size=lr_decay_step, gamma=lr_decay_gamma)\n",
        "\n",
        "    for epoch in range(epochs):\n",
        "        model.train()\n",
        "        train_loss = 0\n",
        "        train_mae = 0\n",
        "        train_rmse = 0  # Initialize RMSE accumulator\n",
        "\n",
        "        for batch in train_loader:\n",
        "            user_idx = batch[\"user_idx\"].to(\"cuda\")\n",
        "            item_idx = batch[\"item_idx\"].to(\"cuda\")\n",
        "            ratings = batch[\"rating\"].to(\"cuda\")\n",
        "\n",
        "            optimizer.zero_grad()\n",
        "            predictions = model(user_idx, item_idx).squeeze()\n",
        "            loss = criterion(predictions, ratings / 5.0)  # Normalize ratings\n",
        "            loss.backward()\n",
        "            optimizer.step()\n",
        "\n",
        "            train_loss += loss.item()\n",
        "            train_mae += torch.abs(predictions - (ratings / 5.0)).sum().item()\n",
        "            train_rmse += torch.sqrt((predictions - (ratings / 5.0))**2).sum().item()  # RMSE calculation\n",
        "\n",
        "        avg_train_loss = train_loss / len(train_loader)\n",
        "        avg_train_mae = train_mae / len(train_loader.dataset)\n",
        "        avg_train_rmse = train_rmse / len(train_loader.dataset)  # Normalize RMSE\n",
        "\n",
        "        print(f\"Epoch {epoch+1}, Train Loss: {avg_train_loss:.4f}, Train MAE: {avg_train_mae:.4f}, Train RMSE: {avg_train_rmse:.4f}\")\n",
        "        results[\"train_loss\"].append(avg_train_loss)\n",
        "        results[\"train_acc\"].append(avg_train_mae)\n",
        "        results[\"train_rmse\"].append(avg_train_rmse)  # Track RMSE\n",
        "\n",
        "        scheduler.step()\n",
        "\n",
        "        evaluate_model(model, test_loader)\n",
        "\n",
        "def evaluate_model(model, test_loader):\n",
        "    model.eval()\n",
        "    test_loss = 0\n",
        "    test_mae = 0\n",
        "    test_rmse = 0  # Initialize RMSE accumulator\n",
        "    with torch.no_grad():\n",
        "        for batch in test_loader:\n",
        "            user_idx = batch[\"user_idx\"].to(\"cuda\")\n",
        "            item_idx = batch[\"item_idx\"].to(\"cuda\")\n",
        "            ratings = batch[\"rating\"].to(\"cuda\")\n",
        "\n",
        "            predictions = model(user_idx, item_idx).squeeze()\n",
        "            loss = nn.MSELoss()(predictions, ratings / 5.0)\n",
        "\n",
        "            test_loss += loss.item()\n",
        "            test_mae += torch.abs(predictions - (ratings / 5.0)).sum().item()\n",
        "            test_rmse += torch.sqrt((predictions - (ratings / 5.0))**2).sum().item()  # RMSE calculation\n",
        "\n",
        "        avg_test_loss = test_loss / len(test_loader)\n",
        "        avg_test_mae = test_mae / len(test_loader.dataset)\n",
        "        avg_test_rmse = test_rmse / len(test_loader.dataset)  # Normalize RMSE\n",
        "\n",
        "    print(f\"Test Loss: {avg_test_loss:.4f}, Test MAE: {avg_test_mae:.4f}, Test RMSE: {avg_test_rmse:.4f}\")\n",
        "    results[\"test_loss\"].append(avg_test_loss)\n",
        "    results[\"test_acc\"].append(avg_test_mae)\n",
        "    results[\"test_rmse\"].append(avg_test_rmse)  # Track RMSE\n"
      ]
    },
    {
      "cell_type": "code",
      "execution_count": null,
      "metadata": {
        "colab": {
          "base_uri": "https://localhost:8080/"
        },
        "id": "fM3_yEuAPemo",
        "outputId": "67dfc1e0-b5d3-4488-acae-9b6e0537757c"
      },
      "outputs": [
        {
          "name": "stdout",
          "output_type": "stream",
          "text": [
            "Epoch 1, Train Loss: 0.1100, Train MAE: 0.3010, Train RMSE: 0.3010\n",
            "Test Loss: 0.0909, Test MAE: 0.2687, Test RMSE: 0.2687\n",
            "Epoch 2, Train Loss: 0.0941, Train MAE: 0.2691, Train RMSE: 0.2691\n",
            "Test Loss: 0.0901, Test MAE: 0.2644, Test RMSE: 0.2644\n",
            "Epoch 3, Train Loss: 0.0928, Train MAE: 0.2670, Train RMSE: 0.2670\n",
            "Test Loss: 0.0901, Test MAE: 0.2643, Test RMSE: 0.2643\n",
            "Epoch 4, Train Loss: 0.0919, Train MAE: 0.2659, Train RMSE: 0.2659\n",
            "Test Loss: 0.0901, Test MAE: 0.2642, Test RMSE: 0.2642\n",
            "Epoch 5, Train Loss: 0.0913, Train MAE: 0.2651, Train RMSE: 0.2651\n",
            "Test Loss: 0.0900, Test MAE: 0.2636, Test RMSE: 0.2636\n",
            "Epoch 6, Train Loss: 0.0910, Train MAE: 0.2646, Train RMSE: 0.2646\n",
            "Test Loss: 0.0900, Test MAE: 0.2636, Test RMSE: 0.2636\n",
            "Epoch 7, Train Loss: 0.0910, Train MAE: 0.2645, Train RMSE: 0.2645\n",
            "Test Loss: 0.0900, Test MAE: 0.2636, Test RMSE: 0.2636\n",
            "Epoch 8, Train Loss: 0.0909, Train MAE: 0.2645, Train RMSE: 0.2645\n",
            "Test Loss: 0.0900, Test MAE: 0.2636, Test RMSE: 0.2636\n",
            "Epoch 9, Train Loss: 0.0909, Train MAE: 0.2643, Train RMSE: 0.2643\n",
            "Test Loss: 0.0900, Test MAE: 0.2636, Test RMSE: 0.2636\n",
            "Epoch 10, Train Loss: 0.0908, Train MAE: 0.2643, Train RMSE: 0.2643\n",
            "Test Loss: 0.0900, Test MAE: 0.2636, Test RMSE: 0.2636\n"
          ]
        }
      ],
      "source": [
        "num_users = len(user_map)\n",
        "num_items = len(item_map)\n",
        "\n",
        "# Initialize model\n",
        "ncf_model = NCF(num_users=num_users, num_items=num_items, embedding_dim=16, hidden_dims=[32, 16])\n",
        "\n",
        "# Train the model\n",
        "train_model(ncf_model, train_loader, test_loader, epochs=10, lr=1e-4)\n"
      ]
    },
    {
      "cell_type": "markdown",
      "metadata": {
        "id": "30BN6RTARLPh"
      },
      "source": [
        "#Step 8 - Plot loss and metric curves"
      ]
    },
    {
      "cell_type": "code",
      "execution_count": null,
      "metadata": {
        "id": "4M-p6_mlRLPi"
      },
      "outputs": [],
      "source": [
        "\n",
        "import matplotlib.pyplot as plt\n",
        "\n",
        "def plot_loss_curves(results):\n",
        "    epochs = range(1, len(results[\"train_loss\"]) + 1)\n",
        "\n",
        "    plt.figure(figsize=(18, 6))\n",
        "\n",
        "    # Plot Loss\n",
        "    plt.subplot(1, 3, 1)\n",
        "    plt.plot(epochs, results[\"train_loss\"], label=\"train_loss\")\n",
        "    plt.plot(epochs, results[\"test_loss\"], label=\"test_loss\")\n",
        "    plt.xlabel(\"Epochs\")\n",
        "    plt.ylabel(\"Loss\")\n",
        "    plt.legend()\n",
        "\n",
        "    # Plot Accuracy (if you want accuracy or MAE)\n",
        "    plt.subplot(1, 3, 2)\n",
        "    plt.plot(epochs, results[\"train_acc\"], label=\"train_acc\")\n",
        "    plt.plot(epochs, results[\"test_acc\"], label=\"test_acc\")\n",
        "    plt.xlabel(\"Epochs\")\n",
        "    plt.ylabel(\"Accuracy (MAE)\")\n",
        "    plt.legend()\n",
        "\n",
        "    # Plot RMSE\n",
        "    plt.subplot(1, 3, 3)\n",
        "    plt.plot(epochs, results[\"train_rmse\"], label=\"train_rmse\")\n",
        "    plt.plot(epochs, results[\"test_rmse\"], label=\"test_rmse\")\n",
        "    plt.xlabel(\"Epochs\")\n",
        "    plt.ylabel(\"RMSE\")\n",
        "    plt.legend()\n",
        "\n",
        "    plt.tight_layout()\n",
        "    plt.show()\n",
        "\n",
        "\n",
        "\n"
      ]
    },
    {
      "cell_type": "code",
      "execution_count": null,
      "metadata": {
        "id": "9MlqhE5PRLPi",
        "outputId": "e3472429-5af2-4b69-9a01-3d7b2f251819"
      },
      "outputs": [
        {
          "data": {
            "image/png": "[encoded data removed]",
            "text/plain": [
              "<Figure size 1800x600 with 3 Axes>"
            ]
          },
          "metadata": {},
          "output_type": "display_data"
        }
      ],
      "source": [
        "plot_loss_curves(results)"
      ]
    },
    {
      "cell_type": "markdown",
      "metadata": {
        "id": "tqqDF_pBPemo"
      },
      "source": [
        "#Recommendations"
      ]
    },
    {
      "cell_type": "code",
      "execution_count": null,
      "metadata": {
        "id": "d5AHa4aQX3ra"
      },
      "outputs": [],
      "source": [
        "# Example recommendation for a user\n",
        "user_id = \"AHZM3GVSTF4MCGO67QFLXCNIXSIQ\"\n",
        "user_index = user_map[user_id]"
      ]
    },
    {
      "cell_type": "code",
      "execution_count": null,
      "metadata": {
        "colab": {
          "base_uri": "https://localhost:8080/"
        },
        "id": "fNl3-xNMPemp",
        "outputId": "a269a6bf-374c-4908-b709-b777083a6c59"
      },
      "outputs": [
        {
          "name": "stdout",
          "output_type": "stream",
          "text": [
            "Recommended items: ['B08BBQ29N5', 'B099DRHW5V', 'B08BZ63GMJ', 'B00R8DXL44', 'B081TJ8YS3', 'B00YQ6X8EO', 'B097R46CSY', 'B09JS339BZ', 'B08P2DZB4X', 'B086QY6T7N']\n"
          ]
        }
      ],
      "source": [
        "def recommend(model, user_idx, item_indices, k=10 , batch_size=512):\n",
        "    model.eval()\n",
        "    user_tensor = torch.tensor([user_idx] * len(item_indices)).to(\"cuda\")\n",
        "    item_tensor = torch.tensor(item_indices).to(\"cuda\")\n",
        "\n",
        "    with torch.no_grad():\n",
        "        predictions = model(user_tensor, item_tensor).squeeze()\n",
        "    top_k_items = torch.topk(predictions, k=k).indices.cpu().numpy()\n",
        "    return [list(item_map.keys())[i] for i in top_k_items]\n",
        "\n",
        "\n",
        "item_indices = list(range(len(item_map)))\n",
        "recommendations = recommend(ncf_model, user_index, item_indices)\n",
        "print(\"Recommended items:\", recommendations)\n"
      ]
    },
    {
      "cell_type": "markdown",
      "metadata": {
        "id": "ultkmJuORLPl"
      },
      "source": [
        "\n",
        "#Step 9 - Latency Computation\n",
        "\n"
      ]
    },
    {
      "cell_type": "code",
      "execution_count": null,
      "metadata": {
        "id": "sIqmMLu_RLPm",
        "outputId": "e9acc6ff-f1e1-44f0-d029-9a0c1d03eaaf"
      },
      "outputs": [
        {
          "name": "stdout",
          "output_type": "stream",
          "text": [
            "Average latency for original model: 0.22 ms\n",
            "Average latency for scripted model: 0.14 ms\n",
            "Speedup: 1.54x\n"
          ]
        }
      ],
      "source": [
        "\n",
        "\n",
        "import time\n",
        "\n",
        "def measure_latency(model, user_idx, item_idx, device, iterations=100):\n",
        "    model.to(device)\n",
        "    model.eval()\n",
        "    user_idx = user_idx.to(device)\n",
        "    item_idx = item_idx.to(device)\n",
        "\n",
        "    # Warm-up to stabilize GPU timing (if applicable)\n",
        "    for _ in range(10):\n",
        "        _ = model(user_idx, item_idx)\n",
        "\n",
        "    start_time = time.time()\n",
        "    for _ in range(iterations):\n",
        "        with torch.no_grad():\n",
        "            _ = model(user_idx, item_idx)\n",
        "    total_time = time.time() - start_time\n",
        "\n",
        "    average_latency = (total_time / iterations) * 1000  # Convert to milliseconds\n",
        "    return average_latency\n",
        "\n",
        "# Example usage:\n",
        "sample_user_idx = torch.tensor([0] * 256, dtype=torch.long)  # Simulate batch size of 256\n",
        "sample_item_idx = torch.tensor([0] * 256, dtype=torch.long)\n",
        "\n",
        "original_model_latency = measure_latency(ncf_model, sample_user_idx, sample_item_idx, device, iterations=100)\n",
        "\n",
        "# Script the model for production\n",
        "scripted_model = torch.jit.script(ncf_model)\n",
        "scripted_model_latency = measure_latency(scripted_model, sample_user_idx, sample_item_idx, device, iterations=100)\n",
        "\n",
        "# Print latencies\n",
        "print(f\"Average latency for original model: {original_model_latency:.2f} ms\")\n",
        "print(f\"Average latency for scripted model: {scripted_model_latency:.2f} ms\")\n",
        "print(f\"Speedup: {original_model_latency / scripted_model_latency:.2f}x\")\n",
        "\n"
      ]
    },
    {
      "cell_type": "markdown",
      "source": [
        "#Step 10 - UI interface"
      ],
      "metadata": {
        "id": "g--jiyIFT7x5"
      }
    },
    {
      "cell_type": "code",
      "source": [
        "import gradio as gr\n",
        "import torch\n",
        "from PIL import Image\n",
        "import requests\n",
        "from io import BytesIO\n",
        "\n",
        "# Function to fetch item images from the DataFrame\n",
        "def fetch_item_images_from_df(asins, meta_df):\n",
        "    items_with_images = []\n",
        "    for asin in asins:\n",
        "        row = meta_df[meta_df[\"parent_asin\"] == asin]\n",
        "        if not row.empty:\n",
        "            images = row[\"images\"].iloc[0]\n",
        "            if images:  # Check if images are available\n",
        "                items_with_images.append([images[\"large\"][0], row[\"title\"].iloc[0]])\n",
        "    return items_with_images\n",
        "\n",
        "# Function to recommend and fetch images for bought and recommended items\n",
        "def recommend_and_display(user_id):\n",
        "    user_index = user_map.get(user_id)\n",
        "    if user_index is None:\n",
        "        return [], []  # Return empty lists if user not found\n",
        "\n",
        "    # Fetch ASINs for bought items\n",
        "    bought_asins = reviews_df[reviews_df[\"user_id\"] == user_id][\"parent_asin\"].tolist()\n",
        "\n",
        "    # Fetch images for bought and recommended items\n",
        "    bought_items = fetch_item_images_from_df(bought_asins, meta_df)\n",
        "    recommended_asins = recommend(ncf_model, user_index, list(range(len(item_map))))\n",
        "    recommended_items = fetch_item_images_from_df(recommended_asins, meta_df)\n",
        "\n",
        "    return bought_items, recommended_items\n",
        "\n",
        "# Gradio function to display the recommendations\n",
        "def gradio_interface(user_id):\n",
        "    bought, recommended = recommend_and_display(user_id)\n",
        "    return bought, recommended\n",
        "\n",
        "# Gradio Interface\n",
        "interface = gr.Interface(\n",
        "    fn=gradio_interface,\n",
        "    inputs=gr.Textbox(label=\"Enter User ID\"),\n",
        "    outputs=[\n",
        "        gr.Gallery(label=\"Bought Items\"),\n",
        "        gr.Gallery(label=\"Recommended Items\")\n",
        "    ],\n",
        "    title=\"Amazon Recommender\",\n",
        "    description=\"Enter a User ID to see images of bought and recommended items.\",\n",
        "    live=True\n",
        ")\n",
        "\n",
        "# Launch Gradio Interface\n",
        "interface.launch(share=True)\n"
      ],
      "metadata": {
        "id": "OvlE6CSaT6WQ"
      },
      "execution_count": null,
      "outputs": []
    }
  ],
  "metadata": {
    "accelerator": "GPU",
    "colab": {
      "gpuType": "T4",
      "provenance": [],
      "toc_visible": true
    },
    "kernelspec": {
      "display_name": "Python 3",
      "name": "python3"
    },
    "language_info": {
      "name": "python"
    }
  },
  "nbformat": 4,
  "nbformat_minor": 0
}